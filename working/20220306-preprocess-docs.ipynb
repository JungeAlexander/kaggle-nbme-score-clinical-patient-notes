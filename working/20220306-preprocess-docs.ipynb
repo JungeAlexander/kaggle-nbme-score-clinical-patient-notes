{
 "cells": [
  {
   "cell_type": "markdown",
   "id": "92aaf44d-b630-4686-8f8f-25ab1dbd76b5",
   "metadata": {},
   "source": [
    "# Preprocess into spacy's Doc/DocBin format"
   ]
  },
  {
   "cell_type": "code",
   "execution_count": null,
   "id": "53433e31-bbb1-483b-abcf-85af403442a2",
   "metadata": {},
   "outputs": [],
   "source": [
    "import gzip\n",
    "\n",
    "import pandas as pd\n",
    "import spacy"
   ]
  },
  {
   "cell_type": "code",
   "execution_count": null,
   "id": "925d1636-0eab-496f-a7e3-405a3bc4a387",
   "metadata": {},
   "outputs": [],
   "source": [
    "with gzip.open(\"../input/nbme-score-clinical-patient-notes/train_split.json.gz\", \"r\") as fin:\n",
    "    df = pd.read_json(fin)"
   ]
  },
  {
   "cell_type": "code",
   "execution_count": null,
   "id": "12b3e534-250a-442e-a92b-7d077cb88914",
   "metadata": {},
   "outputs": [],
   "source": [
    "df.head()"
   ]
  },
  {
   "cell_type": "markdown",
   "id": "8562e9e5-7c97-48be-9baf-a8b6b4f1cc16",
   "metadata": {},
   "source": [
    "## Select one example case and feature number"
   ]
  },
  {
   "cell_type": "code",
   "execution_count": null,
   "id": "83685ceb-63f8-4ce2-a4e7-11f07a3f8229",
   "metadata": {},
   "outputs": [],
   "source": [
    "case_num = 0\n",
    "feature_num = 0\n",
    "sub_df = df.loc[(df.case_num == case_num) & (df.feature_num == feature_num), :]"
   ]
  },
  {
   "cell_type": "code",
   "execution_count": null,
   "id": "7cd6558e-7fa3-4d98-9e25-f517947b1fc2",
   "metadata": {},
   "outputs": [],
   "source": [
    "sub_df.head()"
   ]
  },
  {
   "cell_type": "code",
   "execution_count": null,
   "id": "70a06f85-3fe9-41d4-89e9-0aa39aea4714",
   "metadata": {},
   "outputs": [],
   "source": [
    "sub_df.fold.value_counts()"
   ]
  },
  {
   "cell_type": "code",
   "execution_count": null,
   "id": "4d2732e6-f684-4ddd-80d9-0dcc4d993b7d",
   "metadata": {},
   "outputs": [],
   "source": [
    "feature_text = sub_df.feature_text.unique()\n",
    "assert len(feature_text) == 1\n",
    "feature_text[0]"
   ]
  },
  {
   "cell_type": "markdown",
   "id": "76f77f27-e525-4d49-85a6-6a9057fbc5da",
   "metadata": {},
   "source": [
    "### Validate and visualize spans"
   ]
  },
  {
   "cell_type": "code",
   "execution_count": null,
   "id": "c2bde2fc-b7d4-43ec-b98e-ff9046d80c27",
   "metadata": {},
   "outputs": [],
   "source": [
    "sub_df.location\n",
    "# TODO clean this"
   ]
  },
  {
   "cell_type": "code",
   "execution_count": null,
   "id": "fb613331-a8b9-442d-a80b-8adf3ae727cd",
   "metadata": {},
   "outputs": [],
   "source": [
    "start_pos = []\n",
    "end_pos = []\n",
    "for loc_list in patient_df.location:\n",
    "    for loc in loc_list:\n",
    "        start_pos.append(loc[0])\n",
    "        end_pos.append(loc[1])\n",
    "        \n",
    "ents = []\n",
    "for start, end in zip(start_pos, end_pos):\n",
    "    ents.append({\n",
    "        'start': start, \n",
    "        'end' : end,\n",
    "        'label' : 'L'\n",
    "    })\n",
    "doc = {\n",
    "    'text' : patient_notes[patient_notes[\"pn_num\"] == PATIENT_IDX][\"pn_history\"].iloc[0],\n",
    "    \"ents\" : ents\n",
    "}\n",
    "colors = {\"L\" :\"linear-gradient(90deg, #aa9cfc, #fc9ce7)\" } \n",
    "options = {\"colors\": colors}\n",
    "spacy.displacy.render(doc, style=\"ent\", options = options , manual=True, jupyter=True);"
   ]
  }
 ],
 "metadata": {
  "kernelspec": {
   "display_name": "20220211-nbme-score-clinical-patient-notes",
   "language": "python",
   "name": "20220211-nbme-score-clinical-patient-notes"
  },
  "language_info": {
   "codemirror_mode": {
    "name": "ipython",
    "version": 3
   },
   "file_extension": ".py",
   "mimetype": "text/x-python",
   "name": "python",
   "nbconvert_exporter": "python",
   "pygments_lexer": "ipython3",
   "version": "3.7.12"
  }
 },
 "nbformat": 4,
 "nbformat_minor": 5
}
