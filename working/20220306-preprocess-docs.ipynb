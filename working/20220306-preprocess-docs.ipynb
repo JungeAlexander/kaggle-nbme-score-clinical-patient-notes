{
 "cells": [
  {
   "cell_type": "code",
   "execution_count": null,
   "id": "53433e31-bbb1-483b-abcf-85af403442a2",
   "metadata": {},
   "outputs": [],
   "source": [
    "import gzip\n",
    "\n",
    "import pandas as pd"
   ]
  },
  {
   "cell_type": "code",
   "execution_count": null,
   "id": "925d1636-0eab-496f-a7e3-405a3bc4a387",
   "metadata": {},
   "outputs": [],
   "source": [
    "with gzip.open(\"../input/nbme-score-clinical-patient-notes/train_split.json.gz\", \"r\") as fin:\n",
    "    df = pd.read_json(fin)"
   ]
  },
  {
   "cell_type": "code",
   "execution_count": null,
   "id": "12b3e534-250a-442e-a92b-7d077cb88914",
   "metadata": {},
   "outputs": [],
   "source": [
    "df.head()"
   ]
  }
 ],
 "metadata": {
  "kernelspec": {
   "display_name": "20220211-nbme-score-clinical-patient-notes",
   "language": "python",
   "name": "20220211-nbme-score-clinical-patient-notes"
  },
  "language_info": {
   "codemirror_mode": {
    "name": "ipython",
    "version": 3
   },
   "file_extension": ".py",
   "mimetype": "text/x-python",
   "name": "python",
   "nbconvert_exporter": "python",
   "pygments_lexer": "ipython3",
   "version": "3.7.12"
  }
 },
 "nbformat": 4,
 "nbformat_minor": 5
}
