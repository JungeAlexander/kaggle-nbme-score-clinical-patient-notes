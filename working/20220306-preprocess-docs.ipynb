{
 "cells": [
  {
   "cell_type": "markdown",
   "id": "92aaf44d-b630-4686-8f8f-25ab1dbd76b5",
   "metadata": {},
   "source": [
    "# Preprocess into spacy's Doc/DocBin format"
   ]
  },
  {
   "cell_type": "code",
   "execution_count": null,
   "id": "53433e31-bbb1-483b-abcf-85af403442a2",
   "metadata": {},
   "outputs": [],
   "source": [
    "import gzip\n",
    "import re\n",
    "from pathlib import Path\n",
    "\n",
    "import pandas as pd\n",
    "import spacy\n",
    "from spacy.tokens import DocBin"
   ]
  },
  {
   "cell_type": "code",
   "execution_count": null,
   "id": "ee34de03-87c6-4bdb-98a7-054c605bb3b8",
   "metadata": {},
   "outputs": [],
   "source": [
    "output_dir = Path(\"corpus\")\n",
    "output_dir.mkdir(parents=True, exist_ok=True)"
   ]
  },
  {
   "cell_type": "code",
   "execution_count": null,
   "id": "0ff32efc-5b79-41f0-a184-eb6702259629",
   "metadata": {},
   "outputs": [],
   "source": [
    "nlp = spacy.blank(\"en\")"
   ]
  },
  {
   "cell_type": "markdown",
   "id": "6059e213-45f4-4bdc-9ccc-074910fb02db",
   "metadata": {},
   "source": [
    "## Load data and convert spans"
   ]
  },
  {
   "cell_type": "code",
   "execution_count": null,
   "id": "925d1636-0eab-496f-a7e3-405a3bc4a387",
   "metadata": {},
   "outputs": [],
   "source": [
    "with gzip.open(\n",
    "    \"../input/nbme-score-clinical-patient-notes/train_split.json.gz\", \"r\"\n",
    ") as fin:\n",
    "    df = pd.read_json(fin)"
   ]
  },
  {
   "cell_type": "code",
   "execution_count": null,
   "id": "bb6a40a3-cfea-417a-bde8-06fd11770745",
   "metadata": {},
   "outputs": [],
   "source": [
    "def process_spans(span_str: str):\n",
    "    \"\"\"\n",
    "    Sanitize spans by converting them to lists of lists of two integer tuples.\n",
    "    This seems to handle the best way to take care of both comma- and semicolon-based\n",
    "    delimitation of spans. Examples:\n",
    "    ['696 724'] -> [[(696, 724)]]\n",
    "    ['501 517', '482 488;522 530'] -> [[(501, 517)], [(482, 488), (522, 530)]]\n",
    "    \"\"\"\n",
    "    spans = []\n",
    "    for s in span_str:\n",
    "        current_s = []\n",
    "        ints = re.findall(r\"\\d+\", s)\n",
    "        assert len(ints) % 2 == 0\n",
    "        for i in range(0, len(ints), 2):\n",
    "            current_s.append((int(ints[i]), int(ints[i + 1])))\n",
    "        spans.append(current_s)\n",
    "    return spans\n",
    "\n",
    "\n",
    "df.location = df.location.apply(process_spans)"
   ]
  },
  {
   "cell_type": "code",
   "execution_count": null,
   "id": "12b3e534-250a-442e-a92b-7d077cb88914",
   "metadata": {},
   "outputs": [],
   "source": [
    "df.head()"
   ]
  },
  {
   "cell_type": "markdown",
   "id": "30213405-15f3-4820-8de5-548c89464960",
   "metadata": {},
   "source": [
    "### Validating spans"
   ]
  },
  {
   "cell_type": "code",
   "execution_count": null,
   "id": "5b637dd9-5885-49cc-a914-aa2da242bbaa",
   "metadata": {},
   "outputs": [],
   "source": [
    "for i, r in df.iterrows():\n",
    "    for expected, span in zip(r.annotation, r.location):\n",
    "        actual = \"\"\n",
    "        sep = \"\"\n",
    "        for sub in span:\n",
    "            actual += sep + r.pn_history[sub[0] : sub[1]]\n",
    "            sep = \" \"\n",
    "        if expected != actual:\n",
    "            print(f\"Row: {i}\")\n",
    "            print(f\"Expected: {expected}\")\n",
    "            print(f\"Actual: {actual}\")"
   ]
  },
  {
   "cell_type": "markdown",
   "id": "8562e9e5-7c97-48be-9baf-a8b6b4f1cc16",
   "metadata": {},
   "source": [
    "## Select one example case and feature number"
   ]
  },
  {
   "cell_type": "code",
   "execution_count": null,
   "id": "83685ceb-63f8-4ce2-a4e7-11f07a3f8229",
   "metadata": {},
   "outputs": [],
   "source": [
    "case_num = 0\n",
    "feature_num = 0\n",
    "sub_df = df.loc[(df.case_num == case_num) & (df.feature_num == feature_num), :]"
   ]
  },
  {
   "cell_type": "code",
   "execution_count": null,
   "id": "7cd6558e-7fa3-4d98-9e25-f517947b1fc2",
   "metadata": {},
   "outputs": [],
   "source": [
    "sub_df.head()"
   ]
  },
  {
   "cell_type": "code",
   "execution_count": null,
   "id": "70a06f85-3fe9-41d4-89e9-0aa39aea4714",
   "metadata": {},
   "outputs": [],
   "source": [
    "sub_df.fold.value_counts()"
   ]
  },
  {
   "cell_type": "code",
   "execution_count": null,
   "id": "4d2732e6-f684-4ddd-80d9-0dcc4d993b7d",
   "metadata": {},
   "outputs": [],
   "source": [
    "feature_text = sub_df.feature_text.unique()\n",
    "assert len(feature_text) == 1\n",
    "feature_text[0]"
   ]
  },
  {
   "cell_type": "code",
   "execution_count": null,
   "id": "0d1d2c17-1068-496b-952e-44c1e510e05a",
   "metadata": {},
   "outputs": [],
   "source": [
    "assert len(sub_df.pn_num.unique()) == len(sub_df)"
   ]
  },
  {
   "cell_type": "markdown",
   "id": "ef7e6bde-ab2f-44df-98ba-99a978734d3b",
   "metadata": {},
   "source": [
    "### Visualizing spans"
   ]
  },
  {
   "cell_type": "code",
   "execution_count": null,
   "id": "c2bde2fc-b7d4-43ec-b98e-ff9046d80c27",
   "metadata": {},
   "outputs": [],
   "source": [
    "sub_df.location"
   ]
  },
  {
   "cell_type": "code",
   "execution_count": null,
   "id": "fb613331-a8b9-442d-a80b-8adf3ae727cd",
   "metadata": {},
   "outputs": [],
   "source": [
    "def vis_row(row: pd.Series):\n",
    "    ents = []\n",
    "    for span in row.location:\n",
    "        for sub in span:\n",
    "            ents.append({\"start\": sub[0], \"end\": sub[1], \"label\": \"\"})\n",
    "    doc = {\n",
    "        \"text\": row.pn_history,\n",
    "        \"ents\": ents,\n",
    "    }\n",
    "    colors = {\"\": \"linear-gradient(90deg, #aa9cfc, #fc9ce7)\"}\n",
    "    options = {\"colors\": colors}\n",
    "    spacy.displacy.render(doc, style=\"ent\", options=options, manual=True, jupyter=True);"
   ]
  },
  {
   "cell_type": "code",
   "execution_count": null,
   "id": "f6b92222-b0e5-41af-aa7e-74488f8142c9",
   "metadata": {},
   "outputs": [],
   "source": [
    "vis_row(sub_df.loc[533])"
   ]
  },
  {
   "cell_type": "markdown",
   "id": "37df5976-d91d-4795-b49f-ea885421cf3d",
   "metadata": {},
   "source": [
    "## Convert to Doc\n",
    "\n",
    "Add NER annotation and metadata."
   ]
  },
  {
   "cell_type": "code",
   "execution_count": null,
   "id": "b3b13c6d-2825-4d5f-8e45-32d62329a3a3",
   "metadata": {},
   "outputs": [],
   "source": [
    "sub_df.head()"
   ]
  },
  {
   "cell_type": "code",
   "execution_count": null,
   "id": "40dcf9d4-ae48-417b-b56c-237f5ee9fba3",
   "metadata": {},
   "outputs": [],
   "source": [
    "def df_to_docbin(in_df: pd.DataFrame):\n",
    "    db = DocBin()\n",
    "    for _, row in in_df.iterrows():\n",
    "        doc = nlp(row.pn_history)\n",
    "        doc.user_data = {\n",
    "            \"id\": row.id,\n",
    "            \"case_num\": row.case_num,\n",
    "            \"pn_num\": row.pn_num,\n",
    "            \"feature_num\": row.feature_num,\n",
    "            \"feature_text\": row.feature_text,\n",
    "        }\n",
    "        ents = []\n",
    "        for span in row.location:\n",
    "            for start, end in span:\n",
    "                # NOTE: expand to spacy default tokenization\n",
    "                char_span = doc.char_span(start, end, alignment_mode=\"expand\")\n",
    "                if char_span is None:\n",
    "                    raise ValueError()\n",
    "                ents.append(char_span)\n",
    "        doc.ents = ents\n",
    "        db.add(doc)\n",
    "    return db"
   ]
  },
  {
   "cell_type": "markdown",
   "id": "fb141b55-858a-4933-b59e-a5a31a8052c8",
   "metadata": {},
   "source": [
    "## Save train and dev sets as DocBin"
   ]
  },
  {
   "cell_type": "code",
   "execution_count": null,
   "id": "bf7a6d7d-e545-479d-a461-c27eeeafeeed",
   "metadata": {},
   "outputs": [],
   "source": [
    "train_df = sub_df.loc[\n",
    "    sub_df.fold.isin([0, 1, 2]),\n",
    "]\n",
    "train_db = df_to_docbin(train_df)\n",
    "\n",
    "dev_df = sub_df.loc[\n",
    "    sub_df.fold.isin([3]),\n",
    "]\n",
    "dev_db = df_to_docbin(dev_df)\n",
    "\n",
    "test_df = sub_df.loc[\n",
    "    sub_df.fold.isin([4]),\n",
    "]\n",
    "test_db = df_to_docbin(test_df)"
   ]
  },
  {
   "cell_type": "code",
   "execution_count": null,
   "id": "23af8216-0579-4619-9b99-cd36ae78f956",
   "metadata": {},
   "outputs": [],
   "source": [
    "assert len(train_db) == 60\n",
    "assert len(dev_db) == 20\n",
    "assert len(test_db) == 20"
   ]
  },
  {
   "cell_type": "code",
   "execution_count": null,
   "id": "0ca07265-aadf-4254-87cc-3024ba175764",
   "metadata": {},
   "outputs": [],
   "source": [
    "train_db.to_disk(\n",
    "    output_dir / f\"train-case_num-{case_num}-feature_num-{feature_num}.spacy\"\n",
    ")\n",
    "dev_db.to_disk(\n",
    "    output_dir / f\"dev-case_num-{case_num}-feature_num-{feature_num}.spacy\"\n",
    ")\n",
    "test_db.to_disk(\n",
    "    output_dir / f\"test-case_num-{case_num}-feature_num-{feature_num}.spacy\"\n",
    ")"
   ]
  }
 ],
 "metadata": {
  "kernelspec": {
   "display_name": "20220211-nbme-score-clinical-patient-notes",
   "language": "python",
   "name": "20220211-nbme-score-clinical-patient-notes"
  },
  "language_info": {
   "codemirror_mode": {
    "name": "ipython",
    "version": 3
   },
   "file_extension": ".py",
   "mimetype": "text/x-python",
   "name": "python",
   "nbconvert_exporter": "python",
   "pygments_lexer": "ipython3",
   "version": "3.7.12"
  }
 },
 "nbformat": 4,
 "nbformat_minor": 5
}
