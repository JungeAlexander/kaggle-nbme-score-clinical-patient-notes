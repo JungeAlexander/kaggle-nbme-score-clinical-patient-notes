{
 "cells": [
  {
   "cell_type": "markdown",
   "id": "92aaf44d-b630-4686-8f8f-25ab1dbd76b5",
   "metadata": {},
   "source": [
    "# Preprocess into spacy's Doc/DocBin format"
   ]
  },
  {
   "cell_type": "code",
   "execution_count": 1,
   "id": "53433e31-bbb1-483b-abcf-85af403442a2",
   "metadata": {},
   "outputs": [],
   "source": [
    "import gzip\n",
    "import re\n",
    "from pathlib import Path\n",
    "\n",
    "import pandas as pd\n",
    "import spacy\n",
    "from spacy.tokens import DocBin"
   ]
  },
  {
   "cell_type": "code",
   "execution_count": 2,
   "id": "ee34de03-87c6-4bdb-98a7-054c605bb3b8",
   "metadata": {},
   "outputs": [],
   "source": [
    "output_dir = Path(\"corpus\")"
   ]
  },
  {
   "cell_type": "code",
   "execution_count": 3,
   "id": "0ff32efc-5b79-41f0-a184-eb6702259629",
   "metadata": {},
   "outputs": [],
   "source": [
    "nlp = spacy.blank(\"en\")"
   ]
  },
  {
   "cell_type": "markdown",
   "id": "6059e213-45f4-4bdc-9ccc-074910fb02db",
   "metadata": {},
   "source": [
    "## Load data and convert spans"
   ]
  },
  {
   "cell_type": "code",
   "execution_count": 4,
   "id": "925d1636-0eab-496f-a7e3-405a3bc4a387",
   "metadata": {},
   "outputs": [],
   "source": [
    "with gzip.open(\n",
    "    \"../input/nbme-score-clinical-patient-notes/train_split.json.gz\", \"r\"\n",
    ") as fin:\n",
    "    df = pd.read_json(fin)"
   ]
  },
  {
   "cell_type": "code",
   "execution_count": 5,
   "id": "bb6a40a3-cfea-417a-bde8-06fd11770745",
   "metadata": {},
   "outputs": [],
   "source": [
    "def process_spans(span_str: str):\n",
    "    \"\"\"\n",
    "    Sanitize spans by converting them to lists of lists of two integer tuples.\n",
    "    This seems to handle the best way to take care of both comma- and semicolon-based\n",
    "    delimitation of spans. Examples:\n",
    "    ['696 724'] -> [[(696, 724)]]\n",
    "    ['501 517', '482 488;522 530'] -> [[(501, 517)], [(482, 488), (522, 530)]]\n",
    "    \"\"\"\n",
    "    spans = []\n",
    "    for s in span_str:\n",
    "        current_s = []\n",
    "        ints = re.findall(r\"\\d+\", s)\n",
    "        assert len(ints) % 2 == 0\n",
    "        for i in range(0, len(ints), 2):\n",
    "            current_s.append((int(ints[i]), int(ints[i + 1])))\n",
    "        spans.append(current_s)\n",
    "    return spans\n",
    "\n",
    "\n",
    "df.location = df.location.apply(process_spans)"
   ]
  },
  {
   "cell_type": "code",
   "execution_count": 6,
   "id": "12b3e534-250a-442e-a92b-7d077cb88914",
   "metadata": {},
   "outputs": [
    {
     "data": {
      "text/html": [
       "<div>\n",
       "<style scoped>\n",
       "    .dataframe tbody tr th:only-of-type {\n",
       "        vertical-align: middle;\n",
       "    }\n",
       "\n",
       "    .dataframe tbody tr th {\n",
       "        vertical-align: top;\n",
       "    }\n",
       "\n",
       "    .dataframe thead th {\n",
       "        text-align: right;\n",
       "    }\n",
       "</style>\n",
       "<table border=\"1\" class=\"dataframe\">\n",
       "  <thead>\n",
       "    <tr style=\"text-align: right;\">\n",
       "      <th></th>\n",
       "      <th>id</th>\n",
       "      <th>case_num</th>\n",
       "      <th>pn_num</th>\n",
       "      <th>feature_num</th>\n",
       "      <th>annotation</th>\n",
       "      <th>location</th>\n",
       "      <th>feature_text</th>\n",
       "      <th>pn_history</th>\n",
       "      <th>fold</th>\n",
       "    </tr>\n",
       "  </thead>\n",
       "  <tbody>\n",
       "    <tr>\n",
       "      <th>0</th>\n",
       "      <td>16000</td>\n",
       "      <td>0</td>\n",
       "      <td>16</td>\n",
       "      <td>0</td>\n",
       "      <td>[dad with recent heart attcak]</td>\n",
       "      <td>[[(696, 724)]]</td>\n",
       "      <td>Family-history-of-MI-OR-Family-history-of-myoc...</td>\n",
       "      <td>HPI: 17yo M presents with palpitations. Patien...</td>\n",
       "      <td>4</td>\n",
       "    </tr>\n",
       "    <tr>\n",
       "      <th>1</th>\n",
       "      <td>16001</td>\n",
       "      <td>0</td>\n",
       "      <td>16</td>\n",
       "      <td>1</td>\n",
       "      <td>[mom with \"thyroid disease]</td>\n",
       "      <td>[[(668, 693)]]</td>\n",
       "      <td>Family-history-of-thyroid-disorder</td>\n",
       "      <td>HPI: 17yo M presents with palpitations. Patien...</td>\n",
       "      <td>4</td>\n",
       "    </tr>\n",
       "    <tr>\n",
       "      <th>2</th>\n",
       "      <td>16002</td>\n",
       "      <td>0</td>\n",
       "      <td>16</td>\n",
       "      <td>2</td>\n",
       "      <td>[chest pressure]</td>\n",
       "      <td>[[(203, 217)]]</td>\n",
       "      <td>Chest-pressure</td>\n",
       "      <td>HPI: 17yo M presents with palpitations. Patien...</td>\n",
       "      <td>4</td>\n",
       "    </tr>\n",
       "    <tr>\n",
       "      <th>3</th>\n",
       "      <td>16003</td>\n",
       "      <td>0</td>\n",
       "      <td>16</td>\n",
       "      <td>3</td>\n",
       "      <td>[intermittent episodes, episode]</td>\n",
       "      <td>[[(70, 91)], [(176, 183)]]</td>\n",
       "      <td>Intermittent-symptoms</td>\n",
       "      <td>HPI: 17yo M presents with palpitations. Patien...</td>\n",
       "      <td>4</td>\n",
       "    </tr>\n",
       "    <tr>\n",
       "      <th>4</th>\n",
       "      <td>16004</td>\n",
       "      <td>0</td>\n",
       "      <td>16</td>\n",
       "      <td>4</td>\n",
       "      <td>[felt as if he were going to pass out]</td>\n",
       "      <td>[[(222, 258)]]</td>\n",
       "      <td>Lightheaded</td>\n",
       "      <td>HPI: 17yo M presents with palpitations. Patien...</td>\n",
       "      <td>4</td>\n",
       "    </tr>\n",
       "  </tbody>\n",
       "</table>\n",
       "</div>"
      ],
      "text/plain": [
       "      id  case_num  pn_num  feature_num  \\\n",
       "0  16000         0      16            0   \n",
       "1  16001         0      16            1   \n",
       "2  16002         0      16            2   \n",
       "3  16003         0      16            3   \n",
       "4  16004         0      16            4   \n",
       "\n",
       "                               annotation                    location  \\\n",
       "0          [dad with recent heart attcak]              [[(696, 724)]]   \n",
       "1             [mom with \"thyroid disease]              [[(668, 693)]]   \n",
       "2                        [chest pressure]              [[(203, 217)]]   \n",
       "3        [intermittent episodes, episode]  [[(70, 91)], [(176, 183)]]   \n",
       "4  [felt as if he were going to pass out]              [[(222, 258)]]   \n",
       "\n",
       "                                        feature_text  \\\n",
       "0  Family-history-of-MI-OR-Family-history-of-myoc...   \n",
       "1                 Family-history-of-thyroid-disorder   \n",
       "2                                     Chest-pressure   \n",
       "3                              Intermittent-symptoms   \n",
       "4                                        Lightheaded   \n",
       "\n",
       "                                          pn_history  fold  \n",
       "0  HPI: 17yo M presents with palpitations. Patien...     4  \n",
       "1  HPI: 17yo M presents with palpitations. Patien...     4  \n",
       "2  HPI: 17yo M presents with palpitations. Patien...     4  \n",
       "3  HPI: 17yo M presents with palpitations. Patien...     4  \n",
       "4  HPI: 17yo M presents with palpitations. Patien...     4  "
      ]
     },
     "execution_count": 6,
     "metadata": {},
     "output_type": "execute_result"
    }
   ],
   "source": [
    "df.head()"
   ]
  },
  {
   "cell_type": "markdown",
   "id": "30213405-15f3-4820-8de5-548c89464960",
   "metadata": {},
   "source": [
    "### Validating spans"
   ]
  },
  {
   "cell_type": "code",
   "execution_count": 7,
   "id": "5b637dd9-5885-49cc-a914-aa2da242bbaa",
   "metadata": {},
   "outputs": [],
   "source": [
    "for i, r in df.iterrows():\n",
    "    for expected, span in zip(r.annotation, r.location):\n",
    "        actual = \"\"\n",
    "        sep = \"\"\n",
    "        for sub in span:\n",
    "            actual += sep + r.pn_history[sub[0] : sub[1]]\n",
    "            sep = \" \"\n",
    "        if expected != actual:\n",
    "            print(f\"Row: {i}\")\n",
    "            print(f\"Expected: {expected}\")\n",
    "            print(f\"Actual: {actual}\")"
   ]
  },
  {
   "cell_type": "markdown",
   "id": "8562e9e5-7c97-48be-9baf-a8b6b4f1cc16",
   "metadata": {},
   "source": [
    "## Select one example case and feature number"
   ]
  },
  {
   "cell_type": "code",
   "execution_count": 8,
   "id": "83685ceb-63f8-4ce2-a4e7-11f07a3f8229",
   "metadata": {},
   "outputs": [],
   "source": [
    "case_num = 0\n",
    "feature_num = 0\n",
    "sub_df = df.loc[(df.case_num == case_num) & (df.feature_num == feature_num), :]"
   ]
  },
  {
   "cell_type": "code",
   "execution_count": 9,
   "id": "7cd6558e-7fa3-4d98-9e25-f517947b1fc2",
   "metadata": {},
   "outputs": [
    {
     "data": {
      "text/html": [
       "<div>\n",
       "<style scoped>\n",
       "    .dataframe tbody tr th:only-of-type {\n",
       "        vertical-align: middle;\n",
       "    }\n",
       "\n",
       "    .dataframe tbody tr th {\n",
       "        vertical-align: top;\n",
       "    }\n",
       "\n",
       "    .dataframe thead th {\n",
       "        text-align: right;\n",
       "    }\n",
       "</style>\n",
       "<table border=\"1\" class=\"dataframe\">\n",
       "  <thead>\n",
       "    <tr style=\"text-align: right;\">\n",
       "      <th></th>\n",
       "      <th>id</th>\n",
       "      <th>case_num</th>\n",
       "      <th>pn_num</th>\n",
       "      <th>feature_num</th>\n",
       "      <th>annotation</th>\n",
       "      <th>location</th>\n",
       "      <th>feature_text</th>\n",
       "      <th>pn_history</th>\n",
       "      <th>fold</th>\n",
       "    </tr>\n",
       "  </thead>\n",
       "  <tbody>\n",
       "    <tr>\n",
       "      <th>0</th>\n",
       "      <td>16000</td>\n",
       "      <td>0</td>\n",
       "      <td>16</td>\n",
       "      <td>0</td>\n",
       "      <td>[dad with recent heart attcak]</td>\n",
       "      <td>[[(696, 724)]]</td>\n",
       "      <td>Family-history-of-MI-OR-Family-history-of-myoc...</td>\n",
       "      <td>HPI: 17yo M presents with palpitations. Patien...</td>\n",
       "      <td>4</td>\n",
       "    </tr>\n",
       "    <tr>\n",
       "      <th>13</th>\n",
       "      <td>41000</td>\n",
       "      <td>0</td>\n",
       "      <td>41</td>\n",
       "      <td>0</td>\n",
       "      <td>[]</td>\n",
       "      <td>[]</td>\n",
       "      <td>Family-history-of-MI-OR-Family-history-of-myoc...</td>\n",
       "      <td>17 Y/O M CAME TO THE CLINIC C/O HEART POUNDING...</td>\n",
       "      <td>2</td>\n",
       "    </tr>\n",
       "    <tr>\n",
       "      <th>26</th>\n",
       "      <td>46000</td>\n",
       "      <td>0</td>\n",
       "      <td>46</td>\n",
       "      <td>0</td>\n",
       "      <td>[father: heart attack]</td>\n",
       "      <td>[[(824, 844)]]</td>\n",
       "      <td>Family-history-of-MI-OR-Family-history-of-myoc...</td>\n",
       "      <td>Mr. Cleveland is a 17yo M who was consented by...</td>\n",
       "      <td>1</td>\n",
       "    </tr>\n",
       "    <tr>\n",
       "      <th>39</th>\n",
       "      <td>82000</td>\n",
       "      <td>0</td>\n",
       "      <td>82</td>\n",
       "      <td>0</td>\n",
       "      <td>[Father MI]</td>\n",
       "      <td>[[(622, 631)]]</td>\n",
       "      <td>Family-history-of-MI-OR-Family-history-of-myoc...</td>\n",
       "      <td>17 yo M w/ no cardiac or arrhythmia PMH presen...</td>\n",
       "      <td>0</td>\n",
       "    </tr>\n",
       "    <tr>\n",
       "      <th>52</th>\n",
       "      <td>100000</td>\n",
       "      <td>0</td>\n",
       "      <td>100</td>\n",
       "      <td>0</td>\n",
       "      <td>[Dad-MI]</td>\n",
       "      <td>[[(735, 741)]]</td>\n",
       "      <td>Family-history-of-MI-OR-Family-history-of-myoc...</td>\n",
       "      <td>HPI: Dillon Cleveland is an otherwise healthy ...</td>\n",
       "      <td>4</td>\n",
       "    </tr>\n",
       "  </tbody>\n",
       "</table>\n",
       "</div>"
      ],
      "text/plain": [
       "        id  case_num  pn_num  feature_num                      annotation  \\\n",
       "0    16000         0      16            0  [dad with recent heart attcak]   \n",
       "13   41000         0      41            0                              []   \n",
       "26   46000         0      46            0          [father: heart attack]   \n",
       "39   82000         0      82            0                     [Father MI]   \n",
       "52  100000         0     100            0                        [Dad-MI]   \n",
       "\n",
       "          location                                       feature_text  \\\n",
       "0   [[(696, 724)]]  Family-history-of-MI-OR-Family-history-of-myoc...   \n",
       "13              []  Family-history-of-MI-OR-Family-history-of-myoc...   \n",
       "26  [[(824, 844)]]  Family-history-of-MI-OR-Family-history-of-myoc...   \n",
       "39  [[(622, 631)]]  Family-history-of-MI-OR-Family-history-of-myoc...   \n",
       "52  [[(735, 741)]]  Family-history-of-MI-OR-Family-history-of-myoc...   \n",
       "\n",
       "                                           pn_history  fold  \n",
       "0   HPI: 17yo M presents with palpitations. Patien...     4  \n",
       "13  17 Y/O M CAME TO THE CLINIC C/O HEART POUNDING...     2  \n",
       "26  Mr. Cleveland is a 17yo M who was consented by...     1  \n",
       "39  17 yo M w/ no cardiac or arrhythmia PMH presen...     0  \n",
       "52  HPI: Dillon Cleveland is an otherwise healthy ...     4  "
      ]
     },
     "execution_count": 9,
     "metadata": {},
     "output_type": "execute_result"
    }
   ],
   "source": [
    "sub_df.head()"
   ]
  },
  {
   "cell_type": "code",
   "execution_count": 10,
   "id": "70a06f85-3fe9-41d4-89e9-0aa39aea4714",
   "metadata": {},
   "outputs": [
    {
     "data": {
      "text/plain": [
       "4    20\n",
       "2    20\n",
       "1    20\n",
       "0    20\n",
       "3    20\n",
       "Name: fold, dtype: int64"
      ]
     },
     "execution_count": 10,
     "metadata": {},
     "output_type": "execute_result"
    }
   ],
   "source": [
    "sub_df.fold.value_counts()"
   ]
  },
  {
   "cell_type": "code",
   "execution_count": 11,
   "id": "4d2732e6-f684-4ddd-80d9-0dcc4d993b7d",
   "metadata": {},
   "outputs": [
    {
     "data": {
      "text/plain": [
       "'Family-history-of-MI-OR-Family-history-of-myocardial-infarction'"
      ]
     },
     "execution_count": 11,
     "metadata": {},
     "output_type": "execute_result"
    }
   ],
   "source": [
    "feature_text = sub_df.feature_text.unique()\n",
    "assert len(feature_text) == 1\n",
    "feature_text[0]"
   ]
  },
  {
   "cell_type": "markdown",
   "id": "ef7e6bde-ab2f-44df-98ba-99a978734d3b",
   "metadata": {},
   "source": [
    "### Visualizing spans"
   ]
  },
  {
   "cell_type": "code",
   "execution_count": 12,
   "id": "c2bde2fc-b7d4-43ec-b98e-ff9046d80c27",
   "metadata": {},
   "outputs": [
    {
     "data": {
      "text/plain": [
       "0                     [[(696, 724)]]\n",
       "13                                []\n",
       "26                    [[(824, 844)]]\n",
       "39                    [[(622, 631)]]\n",
       "52                    [[(735, 741)]]\n",
       "                    ...             \n",
       "1235      [[(750, 756), (761, 763)]]\n",
       "1248                              []\n",
       "1261      [[(589, 595), (606, 618)]]\n",
       "1274      [[(845, 847), (855, 861)]]\n",
       "1287    [[(915, 924)], [(545, 570)]]\n",
       "Name: location, Length: 100, dtype: object"
      ]
     },
     "execution_count": 12,
     "metadata": {},
     "output_type": "execute_result"
    }
   ],
   "source": [
    "sub_df.location"
   ]
  },
  {
   "cell_type": "code",
   "execution_count": 13,
   "id": "fb613331-a8b9-442d-a80b-8adf3ae727cd",
   "metadata": {},
   "outputs": [],
   "source": [
    "def vis_row(row: pd.Series):\n",
    "    ents = []\n",
    "    for span in row.location:\n",
    "        for sub in span:\n",
    "            ents.append({\"start\": sub[0], \"end\": sub[1], \"label\": \"\"})\n",
    "    doc = {\n",
    "        \"text\": row.pn_history,\n",
    "        \"ents\": ents,\n",
    "    }\n",
    "    colors = {\"\": \"linear-gradient(90deg, #aa9cfc, #fc9ce7)\"}\n",
    "    options = {\"colors\": colors}\n",
    "    spacy.displacy.render(doc, style=\"ent\", options=options, manual=True, jupyter=True);"
   ]
  },
  {
   "cell_type": "code",
   "execution_count": 14,
   "id": "f6b92222-b0e5-41af-aa7e-74488f8142c9",
   "metadata": {},
   "outputs": [
    {
     "data": {
      "text/html": [
       "<span class=\"tex2jax_ignore\"><div class=\"entities\" style=\"line-height: 2.5; direction: ltr\">HPI: 17 yo M presents with c/o heart pounding. Started 2 months ago and has experiences 5-6 episodes each lasting 3-4 minutes\r",
       "</br>-Describes pain as substernal pressure and denies radiation of presure.\r",
       "</br>-Most severr episode occurred 2 days ago. reported chest pounding and SOB\r",
       "</br>-ROS: Denies LOC, observed seuizure like activity, change with position, relation to food. Denies bowle or bladder incontinence\r",
       "</br>-PMH: none\r",
       "</br>-Meds: Uses roomates Adderall a few times a week \r",
       "</br>-All: NKDA\r",
       "</br>-PSH: none\r",
       "</br>-SHx: College student studying philosophy. Lives on campus. Drinks 3-4 beers on weekends. Tried marijuana 1x. Denies use of other ilicit drugs. Denies personal stressors. Sexually active with one female partner\r",
       "</br>-FH: \n",
       "<mark class=\"entity\" style=\"background: linear-gradient(90deg, #aa9cfc, #fc9ce7); padding: 0.45em 0.6em; margin: 0 0.25em; line-height: 1; border-radius: 0.35em;\">\n",
       "    Dad\n",
       "    <span style=\"font-size: 0.8em; font-weight: bold; line-height: 1; border-radius: 0.35em; vertical-align: middle; margin-left: 0.5rem\"></span>\n",
       "</mark>\n",
       "- alive, \n",
       "<mark class=\"entity\" style=\"background: linear-gradient(90deg, #aa9cfc, #fc9ce7); padding: 0.45em 0.6em; margin: 0 0.25em; line-height: 1; border-radius: 0.35em;\">\n",
       "    MI\n",
       "    <span style=\"font-size: 0.8em; font-weight: bold; line-height: 1; border-radius: 0.35em; vertical-align: middle; margin-left: 0.5rem\"></span>\n",
       "</mark>\n",
       " @ 55 yo. Mom- alive, Hyperthyroid\r",
       "</br></div></span>"
      ],
      "text/plain": [
       "<IPython.core.display.HTML object>"
      ]
     },
     "metadata": {},
     "output_type": "display_data"
    }
   ],
   "source": [
    "vis_row(sub_df.loc[533])"
   ]
  },
  {
   "cell_type": "markdown",
   "id": "37df5976-d91d-4795-b49f-ea885421cf3d",
   "metadata": {},
   "source": [
    "## Convert to Doc\n",
    "\n",
    "Add NER annotation and metadata."
   ]
  },
  {
   "cell_type": "code",
   "execution_count": 15,
   "id": "b3b13c6d-2825-4d5f-8e45-32d62329a3a3",
   "metadata": {},
   "outputs": [
    {
     "data": {
      "text/html": [
       "<div>\n",
       "<style scoped>\n",
       "    .dataframe tbody tr th:only-of-type {\n",
       "        vertical-align: middle;\n",
       "    }\n",
       "\n",
       "    .dataframe tbody tr th {\n",
       "        vertical-align: top;\n",
       "    }\n",
       "\n",
       "    .dataframe thead th {\n",
       "        text-align: right;\n",
       "    }\n",
       "</style>\n",
       "<table border=\"1\" class=\"dataframe\">\n",
       "  <thead>\n",
       "    <tr style=\"text-align: right;\">\n",
       "      <th></th>\n",
       "      <th>id</th>\n",
       "      <th>case_num</th>\n",
       "      <th>pn_num</th>\n",
       "      <th>feature_num</th>\n",
       "      <th>annotation</th>\n",
       "      <th>location</th>\n",
       "      <th>feature_text</th>\n",
       "      <th>pn_history</th>\n",
       "      <th>fold</th>\n",
       "    </tr>\n",
       "  </thead>\n",
       "  <tbody>\n",
       "    <tr>\n",
       "      <th>0</th>\n",
       "      <td>16000</td>\n",
       "      <td>0</td>\n",
       "      <td>16</td>\n",
       "      <td>0</td>\n",
       "      <td>[dad with recent heart attcak]</td>\n",
       "      <td>[[(696, 724)]]</td>\n",
       "      <td>Family-history-of-MI-OR-Family-history-of-myoc...</td>\n",
       "      <td>HPI: 17yo M presents with palpitations. Patien...</td>\n",
       "      <td>4</td>\n",
       "    </tr>\n",
       "    <tr>\n",
       "      <th>13</th>\n",
       "      <td>41000</td>\n",
       "      <td>0</td>\n",
       "      <td>41</td>\n",
       "      <td>0</td>\n",
       "      <td>[]</td>\n",
       "      <td>[]</td>\n",
       "      <td>Family-history-of-MI-OR-Family-history-of-myoc...</td>\n",
       "      <td>17 Y/O M CAME TO THE CLINIC C/O HEART POUNDING...</td>\n",
       "      <td>2</td>\n",
       "    </tr>\n",
       "    <tr>\n",
       "      <th>26</th>\n",
       "      <td>46000</td>\n",
       "      <td>0</td>\n",
       "      <td>46</td>\n",
       "      <td>0</td>\n",
       "      <td>[father: heart attack]</td>\n",
       "      <td>[[(824, 844)]]</td>\n",
       "      <td>Family-history-of-MI-OR-Family-history-of-myoc...</td>\n",
       "      <td>Mr. Cleveland is a 17yo M who was consented by...</td>\n",
       "      <td>1</td>\n",
       "    </tr>\n",
       "    <tr>\n",
       "      <th>39</th>\n",
       "      <td>82000</td>\n",
       "      <td>0</td>\n",
       "      <td>82</td>\n",
       "      <td>0</td>\n",
       "      <td>[Father MI]</td>\n",
       "      <td>[[(622, 631)]]</td>\n",
       "      <td>Family-history-of-MI-OR-Family-history-of-myoc...</td>\n",
       "      <td>17 yo M w/ no cardiac or arrhythmia PMH presen...</td>\n",
       "      <td>0</td>\n",
       "    </tr>\n",
       "    <tr>\n",
       "      <th>52</th>\n",
       "      <td>100000</td>\n",
       "      <td>0</td>\n",
       "      <td>100</td>\n",
       "      <td>0</td>\n",
       "      <td>[Dad-MI]</td>\n",
       "      <td>[[(735, 741)]]</td>\n",
       "      <td>Family-history-of-MI-OR-Family-history-of-myoc...</td>\n",
       "      <td>HPI: Dillon Cleveland is an otherwise healthy ...</td>\n",
       "      <td>4</td>\n",
       "    </tr>\n",
       "  </tbody>\n",
       "</table>\n",
       "</div>"
      ],
      "text/plain": [
       "        id  case_num  pn_num  feature_num                      annotation  \\\n",
       "0    16000         0      16            0  [dad with recent heart attcak]   \n",
       "13   41000         0      41            0                              []   \n",
       "26   46000         0      46            0          [father: heart attack]   \n",
       "39   82000         0      82            0                     [Father MI]   \n",
       "52  100000         0     100            0                        [Dad-MI]   \n",
       "\n",
       "          location                                       feature_text  \\\n",
       "0   [[(696, 724)]]  Family-history-of-MI-OR-Family-history-of-myoc...   \n",
       "13              []  Family-history-of-MI-OR-Family-history-of-myoc...   \n",
       "26  [[(824, 844)]]  Family-history-of-MI-OR-Family-history-of-myoc...   \n",
       "39  [[(622, 631)]]  Family-history-of-MI-OR-Family-history-of-myoc...   \n",
       "52  [[(735, 741)]]  Family-history-of-MI-OR-Family-history-of-myoc...   \n",
       "\n",
       "                                           pn_history  fold  \n",
       "0   HPI: 17yo M presents with palpitations. Patien...     4  \n",
       "13  17 Y/O M CAME TO THE CLINIC C/O HEART POUNDING...     2  \n",
       "26  Mr. Cleveland is a 17yo M who was consented by...     1  \n",
       "39  17 yo M w/ no cardiac or arrhythmia PMH presen...     0  \n",
       "52  HPI: Dillon Cleveland is an otherwise healthy ...     4  "
      ]
     },
     "execution_count": 15,
     "metadata": {},
     "output_type": "execute_result"
    }
   ],
   "source": [
    "sub_df.head()"
   ]
  },
  {
   "cell_type": "code",
   "execution_count": 16,
   "id": "40dcf9d4-ae48-417b-b56c-237f5ee9fba3",
   "metadata": {},
   "outputs": [],
   "source": [
    "db = DocBin()\n",
    "for _, row in sub_df.iterrows():\n",
    "    doc = nlp(row.pn_history)\n",
    "    doc.user_data = {\n",
    "        \"id\": row.id,\n",
    "        \"case_num\": row.case_num,\n",
    "        \"pn_num\": row.pn_num,\n",
    "        \"feature_num\": row.feature_num,\n",
    "    }\n",
    "    ents = []\n",
    "    for span in row.location:\n",
    "        for start, end in span:\n",
    "            # NOTE: expand to spacy default tokenization\n",
    "            char_span = doc.char_span(start, end, alignment_mode=\"expand\")\n",
    "            if char_span is None:\n",
    "                raise ValueError()\n",
    "            ents.append(char_span)\n",
    "    doc.ents = ents\n",
    "    db.add(doc)"
   ]
  },
  {
   "cell_type": "markdown",
   "id": "fb141b55-858a-4933-b59e-a5a31a8052c8",
   "metadata": {},
   "source": [
    "## Save train and dev sets as DocBin"
   ]
  },
  {
   "cell_type": "code",
   "execution_count": 17,
   "id": "0ca07265-aadf-4254-87cc-3024ba175764",
   "metadata": {},
   "outputs": [],
   "source": [
    "# db.to_disk(\"./train.spacy\")"
   ]
  }
 ],
 "metadata": {
  "kernelspec": {
   "display_name": "20220211-nbme-score-clinical-patient-notes",
   "language": "python",
   "name": "20220211-nbme-score-clinical-patient-notes"
  },
  "language_info": {
   "codemirror_mode": {
    "name": "ipython",
    "version": 3
   },
   "file_extension": ".py",
   "mimetype": "text/x-python",
   "name": "python",
   "nbconvert_exporter": "python",
   "pygments_lexer": "ipython3",
   "version": "3.7.12"
  }
 },
 "nbformat": 4,
 "nbformat_minor": 5
}
