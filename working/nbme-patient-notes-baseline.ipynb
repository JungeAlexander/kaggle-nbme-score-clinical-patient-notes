{
 "cells": [
  {
   "cell_type": "markdown",
   "metadata": {},
   "source": [
    "# NBME - Score Clinical Patient Notes - Baseli"
   ]
  },
  {
   "cell_type": "markdown",
   "metadata": {},
   "source": [
    "## Imports and Setup"
   ]
  },
  {
   "cell_type": "code",
   "execution_count": 1,
   "metadata": {
    "execution": {
     "iopub.execute_input": "2022-02-10T16:43:07.842284Z",
     "iopub.status.busy": "2022-02-10T16:43:07.841989Z",
     "iopub.status.idle": "2022-02-10T16:43:07.85369Z",
     "shell.execute_reply": "2022-02-10T16:43:07.852543Z",
     "shell.execute_reply.started": "2022-02-10T16:43:07.842256Z"
    }
   },
   "outputs": [],
   "source": [
    "import numpy as np\n",
    "\n",
    "import re"
   ]
  },
  {
   "cell_type": "code",
   "execution_count": 2,
   "metadata": {
    "_cell_guid": "b1076dfc-b9ad-4769-8c92-a6c4dae69d19",
    "_uuid": "8f2839f25d086af736a60e9eeb907d3b93b6e0e5",
    "execution": {
     "iopub.execute_input": "2022-02-10T16:24:57.202049Z",
     "iopub.status.busy": "2022-02-10T16:24:57.201565Z",
     "iopub.status.idle": "2022-02-10T16:24:58.167461Z",
     "shell.execute_reply": "2022-02-10T16:24:58.166431Z",
     "shell.execute_reply.started": "2022-02-10T16:24:57.202016Z"
    }
   },
   "outputs": [],
   "source": [
    "import pandas as pd\n",
    "\n",
    "train = pd.read_csv(\"../input/nbme-score-clinical-patient-notes/train.csv\")\n",
    "test = pd.read_csv(\"../input/nbme-score-clinical-patient-notes/test.csv\")\n",
    "features = pd.read_csv(\"../input/nbme-score-clinical-patient-notes/features.csv\")\n",
    "patient_notes = pd.read_csv(\"../input/nbme-score-clinical-patient-notes/patient_notes.csv\")\n",
    "submission = pd.read_csv(\"../input/nbme-score-clinical-patient-notes/sample_submission.csv\")\n",
    "\n",
    "# convert location from list of str to list of tuples of int\n",
    "location_ints = train.location.str.findall(r'\\d+')\n",
    "assert location_ints.apply(lambda x: len(x) % 2 == 0).all()\n",
    "train.location = location_ints.apply(lambda x: [(int(x[i]), int(x[i+1])) for i in range(0, len(x), 2)])\n",
    "\n",
    "# clean feature text by lowercasing, removing OR and -, adding <spn> token to indicate start of patient notes\n",
    "features[\"features_clean\"] = [text.replace(\"-OR-\", \".-\").replace(\"-\", \" \").lower() + \" <spn> \" for text in features.feature_text]"
   ]
  },
  {
   "cell_type": "markdown",
   "metadata": {},
   "source": [
    "## Dummy submissions"
   ]
  },
  {
   "cell_type": "markdown",
   "metadata": {},
   "source": [
    "### Predicting the whole span"
   ]
  },
  {
   "cell_type": "code",
   "execution_count": 3,
   "metadata": {
    "execution": {
     "iopub.execute_input": "2022-02-10T16:24:58.573749Z",
     "iopub.status.busy": "2022-02-10T16:24:58.573538Z",
     "iopub.status.idle": "2022-02-10T16:24:58.583265Z",
     "shell.execute_reply": "2022-02-10T16:24:58.582618Z",
     "shell.execute_reply.started": "2022-02-10T16:24:58.573717Z"
    }
   },
   "outputs": [],
   "source": [
    "# pn_spans = []\n",
    "# for pn in test[\"pn_num\"]:\n",
    "#     pns = patient_notes.loc[patient_notes[\"pn_num\"] == pn, \"pn_history\"]\n",
    "#     assert pns.shape == (1,)\n",
    "#     pn_spans.append(f\"0 {len(pns.iloc[0])}\")"
   ]
  },
  {
   "cell_type": "markdown",
   "metadata": {},
   "source": [
    "### Reducing to HPI sections"
   ]
  },
  {
   "cell_type": "code",
   "execution_count": 4,
   "metadata": {
    "execution": {
     "iopub.execute_input": "2022-02-10T16:24:58.584707Z",
     "iopub.status.busy": "2022-02-10T16:24:58.584501Z",
     "iopub.status.idle": "2022-02-10T16:24:58.593572Z",
     "shell.execute_reply": "2022-02-10T16:24:58.592917Z",
     "shell.execute_reply.started": "2022-02-10T16:24:58.584683Z"
    }
   },
   "outputs": [],
   "source": [
    "# pn_spans = []\n",
    "# for pn in test[\"pn_num\"]:\n",
    "#     pns = patient_notes.loc[patient_notes[\"pn_num\"] == pn, \"pn_history\"]\n",
    "#     assert pns.shape == (1,)\n",
    "#     matches = [m.start() for m in re.finditer('HPI:', pns.iloc[0])]\n",
    "#     if len(matches) > 0:\n",
    "#         start = matches[0]\n",
    "#         for e in [m.start() for m in re.finditer(\"\\n\", pns.iloc[0])]:\n",
    "#             if e > start:\n",
    "#                 end = e\n",
    "#                 break\n",
    "#         else:\n",
    "#             end = len(pns.iloc[0])\n",
    "#         pn_spans.append(f\"{start} {end}\")\n",
    "#     else:\n",
    "#         pn_spans.append(f\"0 {len(pns.iloc[0])}\")"
   ]
  },
  {
   "cell_type": "markdown",
   "metadata": {},
   "source": [
    "### Matches for strings in features"
   ]
  },
  {
   "cell_type": "code",
   "execution_count": 5,
   "metadata": {
    "execution": {
     "iopub.execute_input": "2022-02-10T16:24:58.595245Z",
     "iopub.status.busy": "2022-02-10T16:24:58.594861Z",
     "iopub.status.idle": "2022-02-10T16:24:58.617593Z",
     "shell.execute_reply": "2022-02-10T16:24:58.616935Z",
     "shell.execute_reply.started": "2022-02-10T16:24:58.595201Z"
    }
   },
   "outputs": [],
   "source": [
    "pn_spans = []\n",
    "for i, r in test.iterrows():\n",
    "    pns = patient_notes.loc[patient_notes[\"pn_num\"] == r[\"pn_num\"], \"pn_history\"]\n",
    "    assert pns.shape == (1,)\n",
    "    history = pns.iloc[0].lower()\n",
    "    \n",
    "    feature = features.loc[np.logical_and(features[\"case_num\"] == r[\"case_num\"], features[\"feature_num\"] == r[\"feature_num\"]), \"features_clean\"]\n",
    "    assert feature.shape == (1,)\n",
    "    \n",
    "    feature_splits = feature.iloc[0].split()\n",
    "    feature_spans = []\n",
    "    for i in range(len(feature_splits) - 1):\n",
    "        split = feature_splits[i]\n",
    "        matches = \";\".join([f\"{m.start()} {m.end()}\" for m in re.finditer(split, history)])\n",
    "        if matches != \"\":\n",
    "            feature_spans.append(matches)\n",
    "    pn_spans.append(\";\".join(feature_spans))"
   ]
  },
  {
   "cell_type": "markdown",
   "metadata": {},
   "source": [
    "# Submission"
   ]
  },
  {
   "cell_type": "code",
   "execution_count": 6,
   "metadata": {
    "execution": {
     "iopub.execute_input": "2022-02-10T16:24:58.619206Z",
     "iopub.status.busy": "2022-02-10T16:24:58.618744Z",
     "iopub.status.idle": "2022-02-10T16:24:58.628858Z",
     "shell.execute_reply": "2022-02-10T16:24:58.62827Z",
     "shell.execute_reply.started": "2022-02-10T16:24:58.619161Z"
    }
   },
   "outputs": [
    {
     "data": {
      "text/html": [
       "<div>\n",
       "<style scoped>\n",
       "    .dataframe tbody tr th:only-of-type {\n",
       "        vertical-align: middle;\n",
       "    }\n",
       "\n",
       "    .dataframe tbody tr th {\n",
       "        vertical-align: top;\n",
       "    }\n",
       "\n",
       "    .dataframe thead th {\n",
       "        text-align: right;\n",
       "    }\n",
       "</style>\n",
       "<table border=\"1\" class=\"dataframe\">\n",
       "  <thead>\n",
       "    <tr style=\"text-align: right;\">\n",
       "      <th></th>\n",
       "      <th>id</th>\n",
       "      <th>case_num</th>\n",
       "      <th>pn_num</th>\n",
       "      <th>feature_num</th>\n",
       "    </tr>\n",
       "  </thead>\n",
       "  <tbody>\n",
       "    <tr>\n",
       "      <th>0</th>\n",
       "      <td>00016_000</td>\n",
       "      <td>0</td>\n",
       "      <td>16</td>\n",
       "      <td>0</td>\n",
       "    </tr>\n",
       "    <tr>\n",
       "      <th>1</th>\n",
       "      <td>00016_001</td>\n",
       "      <td>0</td>\n",
       "      <td>16</td>\n",
       "      <td>1</td>\n",
       "    </tr>\n",
       "    <tr>\n",
       "      <th>2</th>\n",
       "      <td>00016_002</td>\n",
       "      <td>0</td>\n",
       "      <td>16</td>\n",
       "      <td>2</td>\n",
       "    </tr>\n",
       "    <tr>\n",
       "      <th>3</th>\n",
       "      <td>00016_003</td>\n",
       "      <td>0</td>\n",
       "      <td>16</td>\n",
       "      <td>3</td>\n",
       "    </tr>\n",
       "    <tr>\n",
       "      <th>4</th>\n",
       "      <td>00016_004</td>\n",
       "      <td>0</td>\n",
       "      <td>16</td>\n",
       "      <td>4</td>\n",
       "    </tr>\n",
       "  </tbody>\n",
       "</table>\n",
       "</div>"
      ],
      "text/plain": [
       "          id  case_num  pn_num  feature_num\n",
       "0  00016_000         0      16            0\n",
       "1  00016_001         0      16            1\n",
       "2  00016_002         0      16            2\n",
       "3  00016_003         0      16            3\n",
       "4  00016_004         0      16            4"
      ]
     },
     "execution_count": 6,
     "metadata": {},
     "output_type": "execute_result"
    }
   ],
   "source": [
    "test"
   ]
  },
  {
   "cell_type": "code",
   "execution_count": 7,
   "metadata": {
    "execution": {
     "iopub.execute_input": "2022-02-10T16:24:58.630438Z",
     "iopub.status.busy": "2022-02-10T16:24:58.630176Z",
     "iopub.status.idle": "2022-02-10T16:24:58.644384Z",
     "shell.execute_reply": "2022-02-10T16:24:58.643717Z",
     "shell.execute_reply.started": "2022-02-10T16:24:58.630409Z"
    }
   },
   "outputs": [
    {
     "data": {
      "text/html": [
       "<div>\n",
       "<style scoped>\n",
       "    .dataframe tbody tr th:only-of-type {\n",
       "        vertical-align: middle;\n",
       "    }\n",
       "\n",
       "    .dataframe tbody tr th {\n",
       "        vertical-align: top;\n",
       "    }\n",
       "\n",
       "    .dataframe thead th {\n",
       "        text-align: right;\n",
       "    }\n",
       "</style>\n",
       "<table border=\"1\" class=\"dataframe\">\n",
       "  <thead>\n",
       "    <tr style=\"text-align: right;\">\n",
       "      <th></th>\n",
       "      <th>id</th>\n",
       "      <th>location</th>\n",
       "    </tr>\n",
       "  </thead>\n",
       "  <tbody>\n",
       "    <tr>\n",
       "      <th>0</th>\n",
       "      <td>00016_000</td>\n",
       "      <td>67 69;92 94;123 125;288 290;439 441;465 467;75...</td>\n",
       "    </tr>\n",
       "    <tr>\n",
       "      <th>1</th>\n",
       "      <td>00016_001</td>\n",
       "      <td>67 69;92 94;123 125;288 290;439 441;465 467;67...</td>\n",
       "    </tr>\n",
       "    <tr>\n",
       "      <th>2</th>\n",
       "      <td>00016_002</td>\n",
       "      <td>129 134;203 208;209 217</td>\n",
       "    </tr>\n",
       "    <tr>\n",
       "      <th>3</th>\n",
       "      <td>00016_003</td>\n",
       "      <td>70 82</td>\n",
       "    </tr>\n",
       "    <tr>\n",
       "      <th>4</th>\n",
       "      <td>00016_004</td>\n",
       "      <td></td>\n",
       "    </tr>\n",
       "  </tbody>\n",
       "</table>\n",
       "</div>"
      ],
      "text/plain": [
       "          id                                           location\n",
       "0  00016_000  67 69;92 94;123 125;288 290;439 441;465 467;75...\n",
       "1  00016_001  67 69;92 94;123 125;288 290;439 441;465 467;67...\n",
       "2  00016_002                            129 134;203 208;209 217\n",
       "3  00016_003                                              70 82\n",
       "4  00016_004                                                   "
      ]
     },
     "execution_count": 7,
     "metadata": {},
     "output_type": "execute_result"
    }
   ],
   "source": [
    "my_submission = pd.DataFrame(data={\n",
    "            \"id\": test[\"id\"], \n",
    "            \"location\": pn_spans\n",
    "        })\n",
    "my_submission.to_csv(\"submission.csv\", index=False)\n",
    "my_submission.head()"
   ]
  }
 ],
 "metadata": {
  "kernelspec": {
   "display_name": "20220211-nbme-score-clinical-patient-notes",
   "language": "python",
   "name": "20220211-nbme-score-clinical-patient-notes"
  },
  "language_info": {
   "codemirror_mode": {
    "name": "ipython",
    "version": 3
   },
   "file_extension": ".py",
   "mimetype": "text/x-python",
   "name": "python",
   "nbconvert_exporter": "python",
   "pygments_lexer": "ipython3",
   "version": "3.7.12"
  }
 },
 "nbformat": 4,
 "nbformat_minor": 4
}
